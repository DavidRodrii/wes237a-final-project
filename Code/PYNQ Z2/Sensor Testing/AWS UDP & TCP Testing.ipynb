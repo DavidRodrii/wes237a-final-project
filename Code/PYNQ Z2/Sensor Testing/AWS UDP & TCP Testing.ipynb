{
 "cells": [
  {
   "cell_type": "code",
   "execution_count": 1,
   "id": "19223d53",
   "metadata": {},
   "outputs": [],
   "source": [
    "# AWS EC2 UDP Testing\n",
    "\n",
    "# UDP CODE EXAMPLE\n",
    "\n",
    "import time\n",
    "from socket import *\n",
    "serverName = 'ec2-35-90-59-237.us-west-2.compute.amazonaws.com' # AWS Server Public DNS\n",
    "serverPort = 1113 # TEST UDP Port"
   ]
  },
  {
   "cell_type": "code",
   "execution_count": 3,
   "id": "39c7562c",
   "metadata": {},
   "outputs": [
    {
     "name": "stdout",
     "output_type": "stream",
     "text": [
      "sending message: 0\n",
      "sending message: 1\n",
      "sending message: 2\n",
      "sending message: 3\n",
      "sending message: 4\n"
     ]
    }
   ],
   "source": [
    "\n",
    "clientSocket = socket(AF_INET, SOCK_DGRAM)\n",
    "message = '1'\n",
    "\n",
    "for i in range(5):\n",
    "    print('sending message: {}'.format(i))\n",
    "    clientSocket.sendto(message.encode(),(serverName, serverPort))\n",
    "    time.sleep(1)\n",
    "clientSocket.close()"
   ]
  },
  {
   "cell_type": "code",
   "execution_count": 3,
   "id": "703ea233",
   "metadata": {},
   "outputs": [
    {
     "name": "stdout",
     "output_type": "stream",
     "text": [
      "Connecting Client. . .\n",
      "Connected to Server!\n",
      "Client Connection Socket Closed!\n",
      "Sequence Stopped!\n"
     ]
    }
   ],
   "source": [
    "# AWS EC2 TCP Process Testing\n",
    "# Testing for Connection Status Reporting via TCP Client Connection:\n",
    "\n",
    "import time\n",
    "import socket\n",
    "import subprocess\n",
    "import multiprocessing\n",
    "import pynq.lib.rgbled as rgbled\n",
    "from pynq.overlays.base import BaseOverlay\n",
    "\n",
    "TCPserver = 'ec2-35-90-59-237.us-west-2.compute.amazonaws.com' # AWS Server Public DNS\n",
    "clientPort = 11114\n",
    "port = 11115\n",
    "\n",
    "totalMin = 2\n",
    "timerVal = totalMin * 60\n",
    "\n",
    "manager = multiprocessing.Manager()\n",
    "seq_complete_list = manager.list()\n",
    "\n",
    "def client_process():\n",
    "    # Create a TCP/IP socket\n",
    "    c_sock = socket.socket(socket.AF_INET, socket.SOCK_STREAM)\n",
    "    \n",
    "    print('Connecting Client. . .')\n",
    "    rgbled.RGBLED(1).write(0x0) # Turn off RGB LED\n",
    "    rgbled.RGBLED(1).write(0x2) # RGB LED Green\n",
    "    # Connect Client\n",
    "    c_sock.connect((TCPserver, clientPort))\n",
    "    print('Connected to Server!')\n",
    "    upMessage = 'up'\n",
    "    downMessage = 'down'\n",
    "    \n",
    "    while True:\n",
    "        time.sleep(2)\n",
    "        c_sock.send(upMessage.encode())\n",
    "        if len(seq_complete_list) > 0:\n",
    "            rgbled.RGBLED(1).write(0x0) # Turn off RGB LED\n",
    "            rgbled.RGBLED(1).write(0x5) # RGB LED Magenta\n",
    "            c_sock.send(downMessage.encode())\n",
    "            break\n",
    "    # Disconnect from Client\n",
    "    c_sock.close()\n",
    "    print('Client Connection Socket Closed!')\n",
    "    seq_complete_list.append(1)\n",
    "\n",
    "    \n",
    "\n",
    "def main():  \n",
    "    # Create 1 process\n",
    "    p1 = multiprocessing.Process(target=client_process)\n",
    "    \n",
    "    # Start both processes\n",
    "    p1.start()\n",
    "    \n",
    "    for t in range(50):\n",
    "        time.sleep(2)\n",
    "    seq_complete_list.append(1)\n",
    "    \n",
    "    # Give sufficient time for socket to close \n",
    "    time.sleep(5)\n",
    "    \n",
    "    # Join process\n",
    "    p1.join()\n",
    "    p1.close()\n",
    "    print('Sequence Stopped!')\n",
    "    rgbled.RGBLED(1).write(0x0) # Turn off RGB LED\n",
    "\n",
    "\n",
    "if __name__ == '__main__':\n",
    "    main()\n"
   ]
  },
  {
   "cell_type": "code",
   "execution_count": null,
   "id": "d0b98c00",
   "metadata": {},
   "outputs": [],
   "source": []
  }
 ],
 "metadata": {
  "kernelspec": {
   "display_name": "Python 3 (ipykernel)",
   "language": "python",
   "name": "python3"
  },
  "language_info": {
   "codemirror_mode": {
    "name": "ipython",
    "version": 3
   },
   "file_extension": ".py",
   "mimetype": "text/x-python",
   "name": "python",
   "nbconvert_exporter": "python",
   "pygments_lexer": "ipython3",
   "version": "3.10.8"
  }
 },
 "nbformat": 4,
 "nbformat_minor": 5
}
