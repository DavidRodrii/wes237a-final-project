{
 "cells": [
  {
   "cell_type": "code",
   "execution_count": 1,
   "id": "824fcf89",
   "metadata": {},
   "outputs": [
    {
     "data": {
      "application/javascript": [
       "\n",
       "try {\n",
       "require(['notebook/js/codecell'], function(codecell) {\n",
       "  codecell.CodeCell.options_default.highlight_modes[\n",
       "      'magic_text/x-csrc'] = {'reg':[/^%%microblaze/]};\n",
       "  Jupyter.notebook.events.one('kernel_ready.Kernel', function(){\n",
       "      Jupyter.notebook.get_cells().map(function(cell){\n",
       "          if (cell.cell_type == 'code'){ cell.auto_highlight(); } }) ;\n",
       "  });\n",
       "});\n",
       "} catch (e) {};\n"
      ]
     },
     "metadata": {},
     "output_type": "display_data"
    },
    {
     "data": {
      "application/javascript": [
       "\n",
       "try {\n",
       "require(['notebook/js/codecell'], function(codecell) {\n",
       "  codecell.CodeCell.options_default.highlight_modes[\n",
       "      'magic_text/x-csrc'] = {'reg':[/^%%pybind11/]};\n",
       "  Jupyter.notebook.events.one('kernel_ready.Kernel', function(){\n",
       "      Jupyter.notebook.get_cells().map(function(cell){\n",
       "          if (cell.cell_type == 'code'){ cell.auto_highlight(); } }) ;\n",
       "  });\n",
       "});\n",
       "} catch (e) {};\n"
      ]
     },
     "metadata": {},
     "output_type": "display_data"
    }
   ],
   "source": [
    "\n",
    "import time\n",
    "import serial\n",
    "import socket\n",
    "#from socket import *\n",
    "\n",
    "import subprocess\n",
    "import multiprocessing\n",
    "import pynq.lib.rgbled as rgbled\n",
    "from pynq.overlays.base import BaseOverlay\n",
    "from pynq.lib import MicroblazeLibrary\n",
    "\n",
    "\n",
    "from pynq.lib.arduino import Arduino_Analog\n",
    "from pynq.lib.arduino import ARDUINO_GROVE_A1\n",
    "from pynq.lib.arduino import arduino_io\n",
    "\n",
    "base = BaseOverlay(\"base.bit\")\n",
    "analog1 = Arduino_Analog(base.ARDUINO,ARDUINO_GROVE_A1)\n"
   ]
  },
  {
   "cell_type": "code",
   "execution_count": 2,
   "id": "fa2b77ee",
   "metadata": {},
   "outputs": [],
   "source": [
    "liba = MicroblazeLibrary(base.PMODA, ['i2c'])"
   ]
  },
  {
   "cell_type": "code",
   "execution_count": 74,
   "id": "3afe685f",
   "metadata": {},
   "outputs": [],
   "source": [
    "%%microblaze base.PMODA\n",
    "\n",
    "#include \"i2c.h\"\n",
    "\n",
    "int read_Temp() {\n",
    "    unsigned int low_byte; \n",
    "    unsigned int high_byte; \n",
    "   \n",
    "    i2c device = i2c_open(3, 2);\n",
    "    unsigned char buf[2];\n",
    "    buf[0] = 0;\n",
    "    \n",
    "    i2c_write(device, 0x5A, buf, 1); // Write to Device Address\n",
    "    i2c_write(device, 0x07, buf, 1); // Write to Register Address\n",
    "   \n",
    "    high_byte = i2c_read(device, 0x5A, buf, 1); // Read Device Address\n",
    "    low_byte = i2c_read(device, 0x07, buf, 1); // Read Register Address\n",
    "\n",
    "    return (high_byte+low_byte); // Concat 2 Bytes\n",
    "    //return ((buf[0] & 0x0F) << 8) | buf[1];\n",
    "}\n"
   ]
  },
  {
   "cell_type": "code",
   "execution_count": 75,
   "id": "ee54bf86",
   "metadata": {},
   "outputs": [
    {
     "name": "stdout",
     "output_type": "stream",
     "text": [
      "-4\n"
     ]
    }
   ],
   "source": [
    "temp = read_Temp()\n",
    "print(temp)"
   ]
  },
  {
   "cell_type": "code",
   "execution_count": 4,
   "id": "788b8c74",
   "metadata": {},
   "outputs": [
    {
     "name": "stdout",
     "output_type": "stream",
     "text": [
      "2\n",
      "2\n"
     ]
    },
    {
     "name": "stderr",
     "output_type": "stream",
     "text": [
      "Process Process-2:\n",
      "Traceback (most recent call last):\n",
      "  File \"/usr/lib/python3.10/multiprocessing/process.py\", line 315, in _bootstrap\n",
      "    self.run()\n",
      "  File \"/usr/lib/python3.10/multiprocessing/process.py\", line 108, in run\n",
      "    self._target(*self._args, **self._kwargs)\n",
      "  File \"/tmp/ipykernel_860/789779177.py\", line 15, in get_temp\n",
      "    clientSocket.sendto(str(int(temp)).encode(),(serverName, 1117))\n",
      "OSError: [Errno 9] Bad file descriptor\n"
     ]
    },
    {
     "name": "stdout",
     "output_type": "stream",
     "text": [
      "Sequence Stopped!\n"
     ]
    }
   ],
   "source": [
    "\n",
    "manager = multiprocessing.Manager()\n",
    "seq_complete_list = manager.list()\n",
    "serverName = 'ec2-35-90-59-237.us-west-2.compute.amazonaws.com' # AWS Server Public DNS\n",
    "\n",
    "def get_temp():\n",
    "    temp = 0\n",
    "    serverName = 'ec2-35-90-59-237.us-west-2.compute.amazonaws.com' # AWS Server Public DNS\n",
    "    clientSocket = socket.socket(family=socket.AF_INET, type=socket.SOCK_DGRAM)\n",
    "    \n",
    "    while True:\n",
    "        temp = read_Temp()\n",
    "        print(str(temp))\n",
    "        clientSocket.sendto(str(int(temp)).encode(),(serverName, 1117))\n",
    "        time.sleep(0.05)\n",
    "        if len(seq_complete_list) > 0:\n",
    "            clientSocket.close()\n",
    "            break\n",
    "        else:\n",
    "            time.sleep(5)\n",
    "            temp = 0\n",
    "        clientSocket.close()\n",
    "\n",
    "\n",
    "def main():\n",
    "    # Create 1 process\n",
    "    p1 = multiprocessing.Process(target=get_temp)\n",
    "\n",
    "    # Start process\n",
    "    p1.start()\n",
    "    for t in range(10):\n",
    "        time.sleep(2)\n",
    "    seq_complete_list.append(1)\n",
    "    \n",
    "    # Give sufficient time for socket to close \n",
    "    time.sleep(2)\n",
    "    \n",
    "    # Join process\n",
    "    p1.join()\n",
    "    p1.close() # wait for process1 to finish\n",
    "    \n",
    "    print('Sequence Stopped!')\n",
    "\n",
    "if __name__ == '__main__':\n",
    "    main()"
   ]
  },
  {
   "cell_type": "code",
   "execution_count": null,
   "id": "e0569e07",
   "metadata": {},
   "outputs": [],
   "source": []
  }
 ],
 "metadata": {
  "kernelspec": {
   "display_name": "Python 3 (ipykernel)",
   "language": "python",
   "name": "python3"
  },
  "language_info": {
   "codemirror_mode": {
    "name": "ipython",
    "version": 3
   },
   "file_extension": ".py",
   "mimetype": "text/x-python",
   "name": "python",
   "nbconvert_exporter": "python",
   "pygments_lexer": "ipython3",
   "version": "3.10.8"
  }
 },
 "nbformat": 4,
 "nbformat_minor": 5
}
